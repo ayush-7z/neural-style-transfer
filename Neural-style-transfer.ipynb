{
 "cells": [
  {
   "cell_type": "code",
   "execution_count": 32,
   "id": "86a490e4-6694-4ef1-877c-69bcccc06eaf",
   "metadata": {},
   "outputs": [],
   "source": [
    "import tensorflow_hub as hub\n",
    "import tensorflow as tf\n",
    "from matplotlib import pyplot as plt\n",
    "import numpy as np\n",
    "import cv2\n",
    "import gradio as gr\n"
   ]
  },
  {
   "cell_type": "code",
   "execution_count": 34,
   "id": "473b4c1e-ecf6-4d78-9020-1cf820aa3da9",
   "metadata": {},
   "outputs": [],
   "source": [
    "model = hub.load('https://tfhub.dev/google/magenta/arbitrary-image-stylization-v1-256/2')\n"
   ]
  },
  {
   "cell_type": "code",
   "execution_count": 35,
   "id": "48b6d525-1e8b-4ad1-a4ee-de08ab7dd832",
   "metadata": {},
   "outputs": [],
   "source": [
    "def load_image(img_path):\n",
    "    img = tf.io.read_file(img_path)\n",
    "    img = tf.image.decode_image(img, channels=3)\n",
    "    img = tf.image.convert_image_dtype(img, tf.float32)\n",
    "    img = img[tf.newaxis, :]\n",
    "    return img"
   ]
  },
  {
   "cell_type": "code",
   "execution_count": 38,
   "id": "92823304-6efd-4ba5-bcb7-80d371a56791",
   "metadata": {},
   "outputs": [],
   "source": [
    "def neural_style_transfer(content_img, style_img):\n",
    "    content_img = content_img.astype(np.float32)[np.newaxis, ...] / 255.0\n",
    "    style_img = style_img.astype(np.float32)[np.newaxis, ...] / 255.0                                                                        \n",
    "    stylized_img = model(tf.constant(content_img), tf.constant(style_img))[0]\n",
    "    stylized_img = tf.clip_by_value(stylized_img, 0.0, 1.0).numpy()[0]\n",
    "    stylized_img = (stylized_img * 255).astype(np.uint8)\n",
    "    return stylized_img"
   ]
  },
  {
   "cell_type": "code",
   "execution_count": 40,
   "id": "e4dd98a7-795b-422e-a4d3-8e57e34c6d2e",
   "metadata": {},
   "outputs": [],
   "source": [
    "iface = gr.Interface(\n",
    "    fn=neural_style_transfer,\n",
    "    inputs=[gr.Image(type=\"numpy\"), gr.Image(type=\"numpy\")],  # Corrected input format\n",
    "    outputs=gr.Image(type=\"numpy\"),  # Corrected output format\n",
    "    title=\"Neural Style Transfer\",\n",
    "    description=\"Upload a content image and a style image to create a stylized version.\"\n",
    ")\n"
   ]
  },
  {
   "cell_type": "code",
   "execution_count": 42,
   "id": "2d4be525-7acf-43a4-a0b7-cc546561e21d",
   "metadata": {},
   "outputs": [
    {
     "name": "stdout",
     "output_type": "stream",
     "text": [
      "* Running on local URL:  http://127.0.0.1:7862\n",
      "\n",
      "To create a public link, set `share=True` in `launch()`.\n"
     ]
    },
    {
     "data": {
      "text/html": [
       "<div><iframe src=\"http://127.0.0.1:7862/\" width=\"100%\" height=\"500\" allow=\"autoplay; camera; microphone; clipboard-read; clipboard-write;\" frameborder=\"0\" allowfullscreen></iframe></div>"
      ],
      "text/plain": [
       "<IPython.core.display.HTML object>"
      ]
     },
     "metadata": {},
     "output_type": "display_data"
    }
   ],
   "source": [
    "if __name__ == \"__main__\":\n",
    "    iface.launch()"
   ]
  },
  {
   "cell_type": "code",
   "execution_count": null,
   "id": "8a209295-886d-4927-8e71-5078f1e1a21c",
   "metadata": {},
   "outputs": [],
   "source": []
  }
 ],
 "metadata": {
  "kernelspec": {
   "display_name": "Python [conda env:base] *",
   "language": "python",
   "name": "conda-base-py"
  },
  "language_info": {
   "codemirror_mode": {
    "name": "ipython",
    "version": 3
   },
   "file_extension": ".py",
   "mimetype": "text/x-python",
   "name": "python",
   "nbconvert_exporter": "python",
   "pygments_lexer": "ipython3",
   "version": "3.12.7"
  }
 },
 "nbformat": 4,
 "nbformat_minor": 5
}
